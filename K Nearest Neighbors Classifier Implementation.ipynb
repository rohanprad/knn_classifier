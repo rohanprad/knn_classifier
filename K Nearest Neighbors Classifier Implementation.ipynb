{
 "cells": [
  {
   "cell_type": "markdown",
   "id": "587db17e",
   "metadata": {},
   "source": [
    "# Implementing K Nearest Neighbors Classifier"
   ]
  },
  {
   "cell_type": "code",
   "execution_count": 55,
   "id": "96be2b7a",
   "metadata": {},
   "outputs": [],
   "source": [
    "import numpy as np"
   ]
  },
  {
   "cell_type": "markdown",
   "id": "7db2cf72",
   "metadata": {},
   "source": [
    "## 1. Loading the Datasets"
   ]
  },
  {
   "cell_type": "code",
   "execution_count": 56,
   "id": "c7e93777",
   "metadata": {},
   "outputs": [],
   "source": [
    "## Loading the iris dataset\n",
    "\n",
    "from sklearn.datasets import load_iris\n",
    "iris = load_iris()\n",
    "\n",
    "X_iris = iris['data'] # Features\n",
    "y_iris = iris['target'] # Labels"
   ]
  },
  {
   "cell_type": "markdown",
   "id": "5138541d",
   "metadata": {},
   "source": [
    "## 2. Splitting the Datasets"
   ]
  },
  {
   "cell_type": "code",
   "execution_count": 57,
   "id": "801588ba",
   "metadata": {},
   "outputs": [],
   "source": [
    "from sklearn.model_selection import train_test_split"
   ]
  },
  {
   "cell_type": "code",
   "execution_count": 58,
   "id": "52ec8610",
   "metadata": {},
   "outputs": [],
   "source": [
    "## Splitting the iris dataset\n",
    "X_train_iris, X_test_iris, y_train_iris, y_test_iris = train_test_split(X_iris, \n",
    "                                                                        y_iris, \n",
    "                                                                        random_state= 48)"
   ]
  },
  {
   "cell_type": "markdown",
   "id": "4e9f4ff8",
   "metadata": {},
   "source": [
    "## 3. K Nearest Neighbors Algorithm"
   ]
  },
  {
   "cell_type": "code",
   "execution_count": 59,
   "id": "254c6fa3",
   "metadata": {},
   "outputs": [],
   "source": [
    "# Calculates the euclidean distance between n-dimensional two vectors\n",
    "def get_euclidean_distance(v1, v2):\n",
    "    sq_distance = 0\n",
    "    for i in range(len(v1)):\n",
    "        sq_distance += np.square(v1[i]-v2[i])\n",
    "    return np.sqrt(sq_distance)"
   ]
  },
  {
   "cell_type": "code",
   "execution_count": 60,
   "id": "aca058f0",
   "metadata": {},
   "outputs": [
    {
     "data": {
      "text/plain": [
       "3.3166247903554"
      ]
     },
     "execution_count": 60,
     "metadata": {},
     "output_type": "execute_result"
    }
   ],
   "source": [
    "# Testing the function to see if it works\n",
    "get_euclidean_distance([0, 3, 4, 2], [1, 2, 4, 5]) # Working as expected"
   ]
  },
  {
   "cell_type": "code",
   "execution_count": 61,
   "id": "bd4aacc4",
   "metadata": {},
   "outputs": [],
   "source": [
    "class KNearestNeighbors:\n",
    "    \n",
    "    def __init__(self, k = 1):\n",
    "        self.k = k\n",
    "    \n",
    "    def fit(self, X_train, y_train):\n",
    "        self.X_train = X_train\n",
    "        self.y_train = y_train\n",
    "        \n",
    "    def predict(self, X_test):\n",
    "        self.X_test = X_test\n",
    "        self.y_preds = np.zeros(len(X_test))\n",
    "        for i, s in enumerate(X_test):\n",
    "            distances = np.zeros(len(self.X_train))\n",
    "            for j, x in enumerate(self.X_train):\n",
    "                e_dist = get_euclidean_distance(s, x)\n",
    "                distances[j] = e_dist\n",
    "\n",
    "                # Getting the indices of k mininum distances (nearest neighbors)\n",
    "                k_min_indices = np.argsort(distances)[:self.k]\n",
    "                \n",
    "                # Getting the K nearest labels from the training labels\n",
    "                k_nearest_labels = [self.y_train[l] for l in k_min_indices]\n",
    "        \n",
    "                # Getting the list of possible labels\n",
    "                possible_labels = np.unique(self.y_train)\n",
    "            \n",
    "                # Calculating the frequency of each nearest label\n",
    "                label_counts = np.zeros(len(possible_labels))\n",
    "            \n",
    "                for n in range(len(possible_labels)):\n",
    "                    for label in k_nearest_labels:\n",
    "                        if label == possible_labels[n]:\n",
    "                            label_counts[n] += 1\n",
    "                \n",
    "                # Getting the index of the label with highest frequency\n",
    "                majority_label_index = np.argmax(label_counts)\n",
    "                \n",
    "\n",
    "            ## Assign the label of the sample with majority to new sample from the training set\n",
    "            self.y_preds[i] = possible_labels[majority_label_index]\n",
    "        return self.y_preds\n",
    "    \n",
    "    def score(self, X_test, y_test):\n",
    "        y_preds = self.predict(X_test)\n",
    "        accuracy = np.mean(y_preds == y_test)\n",
    "        return accuracy"
   ]
  },
  {
   "cell_type": "markdown",
   "id": "e8e30cc2",
   "metadata": {},
   "source": [
    "## 4. Running the K Nearest Neighbors Algorithm on the Iris Dataset"
   ]
  },
  {
   "cell_type": "code",
   "execution_count": 62,
   "id": "d2bc652f",
   "metadata": {},
   "outputs": [],
   "source": [
    "from sklearn.neighbors import KNeighborsClassifier\n",
    "\n",
    "my_knn = KNearestNeighbors(k = 3)\n",
    "knn = KNeighborsClassifier(n_neighbors = 3)"
   ]
  },
  {
   "cell_type": "code",
   "execution_count": 63,
   "id": "2e714079",
   "metadata": {},
   "outputs": [],
   "source": [
    "my_knn.fit(X_train_iris, y_train_iris)"
   ]
  },
  {
   "cell_type": "code",
   "execution_count": 64,
   "id": "71cc821a",
   "metadata": {},
   "outputs": [
    {
     "data": {
      "text/plain": [
       "KNeighborsClassifier(n_neighbors=3)"
      ]
     },
     "execution_count": 64,
     "metadata": {},
     "output_type": "execute_result"
    }
   ],
   "source": [
    "knn.fit(X_train_iris, y_train_iris)"
   ]
  },
  {
   "cell_type": "markdown",
   "id": "96d7df71",
   "metadata": {},
   "source": [
    "The labels predicted by our model:"
   ]
  },
  {
   "cell_type": "code",
   "execution_count": 65,
   "id": "95a71b64",
   "metadata": {},
   "outputs": [
    {
     "data": {
      "text/plain": [
       "array([1., 1., 2., 0., 1., 2., 0., 2., 0., 1., 2., 0., 0., 2., 1., 1., 0.,\n",
       "       1., 2., 2., 0., 2., 1., 1., 2., 0., 0., 2., 2., 1., 2., 1., 2., 0.,\n",
       "       1., 2., 2., 1.])"
      ]
     },
     "execution_count": 65,
     "metadata": {},
     "output_type": "execute_result"
    }
   ],
   "source": [
    "my_y_preds_iris = my_knn.predict(X_test_iris)\n",
    "my_y_preds_iris"
   ]
  },
  {
   "cell_type": "markdown",
   "id": "1322e126",
   "metadata": {},
   "source": [
    "The labels predicted by the scikit-learn model:"
   ]
  },
  {
   "cell_type": "code",
   "execution_count": 66,
   "id": "1b488c8f",
   "metadata": {},
   "outputs": [
    {
     "data": {
      "text/plain": [
       "array([1., 1., 2., 0., 1., 2., 0., 2., 0., 1., 2., 0., 0., 2., 1., 1., 0.,\n",
       "       1., 2., 2., 0., 2., 1., 1., 2., 0., 0., 2., 2., 1., 2., 1., 2., 0.,\n",
       "       1., 2., 2., 1.])"
      ]
     },
     "execution_count": 66,
     "metadata": {},
     "output_type": "execute_result"
    }
   ],
   "source": [
    "y_preds_iris = my_knn.predict(X_test_iris)\n",
    "y_preds_iris"
   ]
  },
  {
   "cell_type": "markdown",
   "id": "2ba4baac",
   "metadata": {},
   "source": [
    "The actual labels:"
   ]
  },
  {
   "cell_type": "code",
   "execution_count": 67,
   "id": "63aac95d",
   "metadata": {},
   "outputs": [
    {
     "data": {
      "text/plain": [
       "array([1, 1, 2, 0, 1, 2, 0, 2, 0, 1, 2, 0, 0, 2, 1, 1, 0, 1, 1, 2, 0, 2,\n",
       "       1, 1, 2, 0, 0, 2, 2, 1, 2, 1, 2, 0, 1, 2, 2, 1])"
      ]
     },
     "execution_count": 67,
     "metadata": {},
     "output_type": "execute_result"
    }
   ],
   "source": [
    "y_test_iris"
   ]
  },
  {
   "cell_type": "markdown",
   "id": "4d81e371",
   "metadata": {},
   "source": [
    "### Accuracy of the Model"
   ]
  },
  {
   "cell_type": "markdown",
   "id": "039211fb",
   "metadata": {},
   "source": [
    "Our Model:"
   ]
  },
  {
   "cell_type": "code",
   "execution_count": 68,
   "id": "fd68f406",
   "metadata": {},
   "outputs": [
    {
     "data": {
      "text/plain": [
       "0.9736842105263158"
      ]
     },
     "execution_count": 68,
     "metadata": {},
     "output_type": "execute_result"
    }
   ],
   "source": [
    "my_accuracy_iris = my_knn.score(X_test_iris, y_test_iris)\n",
    "my_accuracy_iris"
   ]
  },
  {
   "cell_type": "markdown",
   "id": "734f14a5",
   "metadata": {},
   "source": [
    "Scikit Learn Model"
   ]
  },
  {
   "cell_type": "code",
   "execution_count": 69,
   "id": "651cbb9c",
   "metadata": {},
   "outputs": [
    {
     "data": {
      "text/plain": [
       "0.9736842105263158"
      ]
     },
     "execution_count": 69,
     "metadata": {},
     "output_type": "execute_result"
    }
   ],
   "source": [
    "accuracy_iris = knn.score(X_test_iris, y_test_iris)\n",
    "accuracy_iris"
   ]
  },
  {
   "cell_type": "markdown",
   "id": "af00db24",
   "metadata": {},
   "source": [
    "### Error Rate of the Model"
   ]
  },
  {
   "cell_type": "code",
   "execution_count": 70,
   "id": "60a0298e",
   "metadata": {},
   "outputs": [
    {
     "data": {
      "text/plain": [
       "1"
      ]
     },
     "execution_count": 70,
     "metadata": {},
     "output_type": "execute_result"
    }
   ],
   "source": [
    "# Number of errors made by the model on the test\n",
    "errors_iris = 0\n",
    "for i in range(len(y_test_iris)):\n",
    "    if y_preds_iris[i] != y_test_iris[i]:\n",
    "        errors_iris += 1\n",
    "errors_iris"
   ]
  },
  {
   "cell_type": "code",
   "execution_count": 71,
   "id": "be846bad",
   "metadata": {},
   "outputs": [
    {
     "data": {
      "text/plain": [
       "0.02631578947368421"
      ]
     },
     "execution_count": 71,
     "metadata": {},
     "output_type": "execute_result"
    }
   ],
   "source": [
    "# The test error rate: number of errors/ size of the test set\n",
    "error_rate_iris = errors_iris/len(X_test_iris)\n",
    "error_rate_iris"
   ]
  },
  {
   "cell_type": "code",
   "execution_count": 72,
   "id": "98ffbc7c",
   "metadata": {},
   "outputs": [
    {
     "data": {
      "text/plain": [
       "0.02631578947368418"
      ]
     },
     "execution_count": 72,
     "metadata": {},
     "output_type": "execute_result"
    }
   ],
   "source": [
    "# The test error rate can also be calculated as (1 - accuracy score)\n",
    "1 - accuracy_iris"
   ]
  }
 ],
 "metadata": {
  "kernelspec": {
   "display_name": "Python 3 (ipykernel)",
   "language": "python",
   "name": "python3"
  },
  "language_info": {
   "codemirror_mode": {
    "name": "ipython",
    "version": 3
   },
   "file_extension": ".py",
   "mimetype": "text/x-python",
   "name": "python",
   "nbconvert_exporter": "python",
   "pygments_lexer": "ipython3",
   "version": "3.9.7"
  }
 },
 "nbformat": 4,
 "nbformat_minor": 5
}
